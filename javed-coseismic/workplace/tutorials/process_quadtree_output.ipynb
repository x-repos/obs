{
 "cells": [
  {
   "cell_type": "code",
   "execution_count": null,
   "id": "db2a0d40",
   "metadata": {},
   "outputs": [],
   "source": [
    "import numpy as np\n",
    "from kite import Scene\n",
    "import matplotlib.pyplot as plt\n",
    "from matplotlib import cm, colors\n",
    "import math\n",
    "import utm\n",
    "from osgeo import gdal"
   ]
  },
  {
   "cell_type": "code",
   "execution_count": null,
   "id": "37889bed",
   "metadata": {},
   "outputs": [],
   "source": [
    "inyml=\"elazig_asc_kite_scene\"\n",
    "outbase=\"elazig_asc\""
   ]
  },
  {
   "cell_type": "code",
   "execution_count": null,
   "id": "1cda834f",
   "metadata": {},
   "outputs": [],
   "source": [
    "sc=Scene.load(inyml)\n",
    "qt=sc.quadtree"
   ]
  },
  {
   "cell_type": "code",
   "execution_count": null,
   "id": "0c73a6c4",
   "metadata": {},
   "outputs": [],
   "source": [
    "print(\"There are\",qt.nleaves,\"leaves\")"
   ]
  },
  {
   "cell_type": "code",
   "execution_count": null,
   "id": "4219522c",
   "metadata": {},
   "outputs": [],
   "source": [
    "reflat=sc.frame.llLat\n",
    "reflon=sc.frame.llLon\n",
    "\n",
    "# we would also like the reference point in utm coordinates\n",
    "refutm=utm.from_latlon(reflat,reflon)\n",
    "\n",
    "print(\"reference point (lat-long):\",reflat,\"N\",reflon,\"E\")\n",
    "\n",
    "print(\"reference point (utm):\",refutm[0],\"E\",refutm[1],\"N\")"
   ]
  },
  {
   "cell_type": "code",
   "execution_count": null,
   "id": "4c886a7a",
   "metadata": {},
   "outputs": [],
   "source": [
    "# xy positions of data points in utm kilometers\n",
    "#xkm=(refutm[0]+qt.leaf_focal_points_meter[:,0])/1000\n",
    "#ykm=(refutm[1]+qt.leaf_focal_points_meter[:,1])/1000\n",
    "\n",
    "# xy positions of data points in long-lat\n",
    "xyll=np.column_stack((qt.leaf_focal_points[:,0]+reflon,qt.leaf_focal_points[:,1]+reflat))\n",
    "\n",
    "# los vector components using kite definiton of coordinates\n",
    "losx=np.cos(qt.leaf_thetas)*-np.cos(qt.leaf_phis)\n",
    "losy=np.cos(qt.leaf_thetas)*-np.sin(qt.leaf_phis)\n",
    "losz=-np.sin(qt.leaf_thetas)\n",
    "\n",
    "# id for each datapoint\n",
    "dataptid=np.arange(1,losx.size+1)"
   ]
  },
  {
   "cell_type": "code",
   "execution_count": null,
   "id": "ff713384",
   "metadata": {},
   "outputs": [],
   "source": [
    "# let's convert our lat-long coordinates to UTM km\n",
    "xym = utm.from_latlon(xyll[:,1],xyll[:,0]) \n",
    "xkm = xym[0]/1000\n",
    "ykm = xym[1]/1000"
   ]
  },
  {
   "cell_type": "code",
   "execution_count": null,
   "id": "a88efc7d",
   "metadata": {},
   "outputs": [],
   "source": [
    "fig = plt.figure(figsize=(6,12))\n",
    "\n",
    "ax = fig.add_subplot(111)\n",
    "ax.set_xlabel(\"UTM_x (km)\",fontsize=12)\n",
    "ax.set_ylabel(\"UTM_y (km)\",fontsize=12)\n",
    "ax.grid(True,linestyle='-',color='0.75')\n",
    "\n",
    "# scatter with colormap mapping to z value\n",
    "ax.scatter(xkm,ykm,s=20,c=qt.leaf_means, marker = 'o', cmap = cm.jet );\n",
    "ax.set_aspect('equal')\n",
    "\n",
    "plt.show()"
   ]
  },
  {
   "cell_type": "code",
   "execution_count": null,
   "id": "898ac39c",
   "metadata": {},
   "outputs": [],
   "source": [
    "# okinv format in km\n",
    "okinv_data=np.column_stack((xkm,ykm,qt.leaf_means,losx,losy,losz,dataptid))\n",
    "outfile=outbase+\".okinv\"\n",
    "np.savetxt(outfile,okinv_data,fmt='%f %f %f %f %f %f %d')\n",
    "\n",
    "# okinv format in lat-long \n",
    "okinv_data_ll=np.column_stack((xyll,qt.leaf_means,losx,losy,losz,dataptid))\n",
    "outfile=outbase+\"_ll\"+\".okinv\"\n",
    "np.savetxt(outfile,okinv_data_ll,fmt='%f %f %f %f %f %f %d')"
   ]
  },
  {
   "cell_type": "code",
   "execution_count": null,
   "id": "8b169713",
   "metadata": {},
   "outputs": [],
   "source": [
    "!ls"
   ]
  },
  {
   "cell_type": "code",
   "execution_count": null,
   "id": "422e0d23",
   "metadata": {},
   "outputs": [],
   "source": [
    "!cat elazig_asc.okinv"
   ]
  },
  {
   "cell_type": "code",
   "execution_count": null,
   "id": "76f50151",
   "metadata": {},
   "outputs": [],
   "source": []
  }
 ],
 "metadata": {
  "kernelspec": {
   "display_name": "Python 3 (ipykernel)",
   "language": "python",
   "name": "python3"
  },
  "language_info": {
   "codemirror_mode": {
    "name": "ipython",
    "version": 3
   },
   "file_extension": ".py",
   "mimetype": "text/x-python",
   "name": "python",
   "nbconvert_exporter": "python",
   "pygments_lexer": "ipython3",
   "version": "3.9.16"
  }
 },
 "nbformat": 4,
 "nbformat_minor": 5
}
