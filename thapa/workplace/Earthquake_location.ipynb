{
 "cells": [
  {
   "cell_type": "markdown",
   "id": "63338409-4c58-488b-91da-a3497795aaa7",
   "metadata": {},
   "source": [
    "### Earthquake Location"
   ]
  },
  {
   "cell_type": "code",
   "execution_count": 1,
   "id": "3c358688-83aa-46d1-919d-e7b4c9f15054",
   "metadata": {},
   "outputs": [],
   "source": [
    "import sys\n",
    "import os\n",
    "import numpy as np\n",
    "import pandas as pd\n",
    "from scipy import signal\n",
    "from scipy import stats\n",
    "import matplotlib.pyplot as plt"
   ]
  },
  {
   "cell_type": "code",
   "execution_count": 2,
   "id": "b8e11c0e-374c-4396-9e64-ffb06b4d3d3a",
   "metadata": {},
   "outputs": [],
   "source": [
    "#Station data\n",
    "lat=np.array([35.0,-44.0,-11.0,23.0,42.0,-12.0,-45.0,5.0,-1.0,20.0])\n",
    "lon=np.array([9.0,10.0,-25.0,-39.0,-27.0,50.0,16.0,-19.0,-11.0,11.0])\n",
    "depth=np.zeros(10)\n",
    "\n",
    "n=len(lat) ##number of observations\n",
    "m=4        ##number of parameters\n",
    "\n",
    "#Observed data (from station and  pridicted by model)\n",
    "#Initialization\n",
    "Station_data=np.zeros(10)\n",
    "d=np.zeros(n)\n",
    "delta_d=np.zeros(n)\n",
    "\n",
    "#Actual Value of model parameters to compute observed data at stations\n",
    "lat_0=0.0\n",
    "lon_0=0.0\n",
    "depth_0=10.0\n",
    "time=0.0\n",
    "vel=5.0\n",
    "\n",
    "#Starting model=[3,4,20,2] : model parameters=(x,y,z,t)\n",
    "x=3.0\n",
    "y=4.0\n",
    "z=20.0\n",
    "t=2.0"
   ]
  },
  {
   "cell_type": "code",
   "execution_count": 3,
   "id": "55d53285-f573-4d95-b802-d63a700012bb",
   "metadata": {},
   "outputs": [],
   "source": [
    "#Arrival_time Equation\n",
    "def compute(lat_0,lon_0,depth_0,time,lat,lon,depth):\n",
    "    return np.sqrt((1/vel *((lat_0-lat)**2 + (lon_0-lon)**2 + (depth_0-depth)**2))) + time\n",
    "                   \n",
    "for i in range(n):                   \n",
    "    Station_data[i]=compute(lat_0,lon_0,depth_0,time,lat[i],lon[i],depth[i])  #Generate Data from the ten stations\n",
    "#Station_data"
   ]
  },
  {
   "cell_type": "code",
   "execution_count": 4,
   "id": "6b449626-47c5-442f-85e2-de98074161b4",
   "metadata": {},
   "outputs": [],
   "source": [
    "## Compute Design matrix\n",
    "G=np.zeros((n,m))\n",
    "G_x=np.zeros(n)\n",
    "G_y=np.zeros(n)\n",
    "G_z=np.zeros(n)\n",
    "G_t=np.zeros(n)"
   ]
  },
  {
   "cell_type": "code",
   "execution_count": 5,
   "id": "140854f4-3d7e-47fe-9040-8fb36b5f0d6b",
   "metadata": {},
   "outputs": [
    {
     "name": "stdout",
     "output_type": "stream",
     "text": [
      "-4.919883868313254 -6.314098525744162 -2.04018377056277 0.5034004679247497\n",
      "5.68812600414494 7.616068453114279 -45.92015517870317 0.29599004017752395\n",
      "-16.602732330445203 -20.76870304860867 61.832828604724654 7.731272300987723\n"
     ]
    }
   ],
   "source": [
    "for k in range(3):             # 3 iterations\n",
    "    for i in range(n):  \n",
    "        d[i]=compute(x,y,z,t,lat[i],lon[i],depth[i])                              #Generate Data from starting model\n",
    "        delta_d[i]= Station_data[i] - d[i]                                        # Compute misfit(difference between original data and predicted data)\n",
    "    \n",
    "        #Partial-Derivative matrix about the starting model\n",
    "        G_x[i]=(x-lat[i])/vel * ((x-lat[i])**2.0 + (y-lon[i])**2.0 + z**2.0)**-0.5\n",
    "\n",
    "        G_y[i]=(y-lon[i])/vel * ((x-lat[i])**2.0 + (y-lon[i])**2.0 + z**2.0)**-0.5\n",
    "\n",
    "        G_z[i]=(z)/vel * ((x-lat[i])**2.0 + (y-lon[i])**2.0 + z**2.0)**-0.5\n",
    "\n",
    "        G_t[i]=1\n",
    "    \n",
    "        #A=design matrix\n",
    "        G[i][0]=G_x[i]\n",
    "        G[i][1]=G_y[i]\n",
    "        G[i][2]=G_z[i]\n",
    "        G[i][3]=G_t[i]   \n",
    "            \n",
    "   #Least Square Estimation\n",
    "    G_tran=np.transpose(G)\n",
    "    N=np.matmul(G_tran,G)\n",
    "    N_inv=np.linalg.inv(N)\n",
    "    G1=np.matmul(N_inv,G_tran)\n",
    "\n",
    "    #Estimated parameters\n",
    "    X_parameters=np.matmul(G1,delta_d)\n",
    "\n",
    "    delta_x=X_parameters[0]  #a=\n",
    "    delta_y=X_parameters[1]  #b=slope\n",
    "    delta_z=X_parameters[2]  #\n",
    "    delta_t=X_parameters[3]  # \n",
    "    \n",
    "    #modified model parameters\n",
    "    x=x+delta_x\n",
    "    y=y+delta_y\n",
    "    z=z+delta_z\n",
    "    t=t+delta_t\n",
    "    \n",
    "    \n",
    "# print(delta_x,delta_y,delta_z,delta_t)   \n",
    "    print(x,y,z,t)"
   ]
  },
  {
   "cell_type": "code",
   "execution_count": null,
   "id": "9285331b-5a24-4298-ba68-60fdd5bbaf90",
   "metadata": {},
   "outputs": [],
   "source": []
  },
  {
   "cell_type": "code",
   "execution_count": null,
   "id": "ed9d50a7-4b88-4673-974a-c4985069855a",
   "metadata": {},
   "outputs": [],
   "source": []
  },
  {
   "cell_type": "code",
   "execution_count": null,
   "id": "56978ab3-9e55-4070-9323-35ffdb585d47",
   "metadata": {},
   "outputs": [],
   "source": []
  },
  {
   "cell_type": "code",
   "execution_count": 8,
   "id": "4db2e7ce-e01d-4cde-8477-0ed742134f4f",
   "metadata": {},
   "outputs": [],
   "source": []
  },
  {
   "cell_type": "code",
   "execution_count": null,
   "id": "02952cce-19f7-4b4e-9763-253213894c52",
   "metadata": {},
   "outputs": [],
   "source": []
  }
 ],
 "metadata": {
  "kernelspec": {
   "display_name": "Python 3 (ipykernel)",
   "language": "python",
   "name": "python3"
  },
  "language_info": {
   "codemirror_mode": {
    "name": "ipython",
    "version": 3
   },
   "file_extension": ".py",
   "mimetype": "text/x-python",
   "name": "python",
   "nbconvert_exporter": "python",
   "pygments_lexer": "ipython3",
   "version": "3.10.8"
  }
 },
 "nbformat": 4,
 "nbformat_minor": 5
}
