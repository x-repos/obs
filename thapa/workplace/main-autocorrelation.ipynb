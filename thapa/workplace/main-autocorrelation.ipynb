{
 "cells": [
  {
   "attachments": {},
   "cell_type": "markdown",
   "metadata": {},
   "source": [
    "## **Autocorrelation for P-wave coda**"
   ]
  },
  {
   "cell_type": "code",
   "execution_count": 2,
   "metadata": {},
   "outputs": [],
   "source": [
    "import numpy as np\n",
    "import matplotlib.pyplot as plt\n",
    "\n",
    "Gaussian_function=lambda x,sig,mu:np.exp(-1/2*((x-mu)/sig)**2)/sig*np.sqrt(2*np.pi)\n",
    "\n",
    "time=np.arange(-2.5,2.5,0.025)\n",
    "sigma=0.2\n",
    "gauss_func1=Gaussian_function(time,sigma,0)\n",
    "gauss_func2=-0.2*Gaussian_function(time,sigma,0)\n",
    "gauss_func3=0.1*Gaussian_function(time,sigma,0)\n",
    "# demo_arr=np.concatenate((np.zeros(100),gauss_func1, gauss_func2,np.zeros(700)), axis = 0)\n",
    "demo_arr=np.concatenate((gauss_func1, gauss_func2,gauss_func3,np.zeros(400)), axis = 0)\n",
    "# demo_tr=Trace(header={'npts':len(demo_arr),'delta':0.025},data=demo_arr)\n",
    "# demo_tr.normalize()\n",
    "# time_axis=np.arange(demo_tr.stats.npts)*demo_tr.stats.delta\n",
    "\n",
    "# plt.figure(figsize=(6,2.5))\n",
    "# plt.plot(time_axis,demo_tr.data,color='black')\n",
    "# plt.show()"
   ]
  }
 ],
 "metadata": {
  "kernelspec": {
   "display_name": "obspy",
   "language": "python",
   "name": "python3"
  },
  "language_info": {
   "codemirror_mode": {
    "name": "ipython",
    "version": 3
   },
   "file_extension": ".py",
   "mimetype": "text/x-python",
   "name": "python",
   "nbconvert_exporter": "python",
   "pygments_lexer": "ipython3",
   "version": "3.9.16"
  },
  "orig_nbformat": 4
 },
 "nbformat": 4,
 "nbformat_minor": 2
}
