{
 "cells": [
  {
   "cell_type": "code",
   "execution_count": 1,
   "metadata": {},
   "outputs": [],
   "source": [
    "from obspy.clients.fdsn import Client\n",
    "\n",
    "# from obspy import read, read_inventory\n",
    "from obspy import UTCDateTime\n",
    "# from glob import glob\n",
    "client = Client(\"IRIS\")\n",
    "\n",
    "stations=['AAK','BFO']\n",
    "starttime=UTCDateTime(\"2023-02-06T00:00:00\")\n",
    "endtime=UTCDateTime(\"2023-02-07T23:59:59\")"
   ]
  }
 ],
 "metadata": {
  "kernelspec": {
   "display_name": "obspy",
   "language": "python",
   "name": "python3"
  },
  "language_info": {
   "codemirror_mode": {
    "name": "ipython",
    "version": 3
   },
   "file_extension": ".py",
   "mimetype": "text/x-python",
   "name": "python",
   "nbconvert_exporter": "python",
   "pygments_lexer": "ipython3",
   "version": "3.9.16"
  },
  "orig_nbformat": 4
 },
 "nbformat": 4,
 "nbformat_minor": 2
}
