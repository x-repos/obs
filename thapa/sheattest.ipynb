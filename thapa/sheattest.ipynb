{
 "cells": [
  {
   "cell_type": "code",
   "execution_count": 5,
   "metadata": {},
   "outputs": [
    {
     "ename": "TypeError",
     "evalue": "get_waveforms() missing 6 required positional arguments: 'network', 'station', 'location', 'channel', 'starttime', and 'endtime'",
     "output_type": "error",
     "traceback": [
      "\u001b[0;31m---------------------------------------------------------------------------\u001b[0m",
      "\u001b[0;31mTypeError\u001b[0m                                 Traceback (most recent call last)",
      "Cell \u001b[0;32mIn[5], line 21\u001b[0m\n\u001b[1;32m     19\u001b[0m \u001b[39m# stationx = client.get_stations(starttime=starttime, endtime=endtime, network=network, station=station, location=location, channel=channel, level=\"response\")\u001b[39;00m\n\u001b[1;32m     20\u001b[0m stationx \u001b[39m=\u001b[39m client\u001b[39m.\u001b[39mget_stations(starttime\u001b[39m=\u001b[39mstarttime, endtime\u001b[39m=\u001b[39mendtime, network\u001b[39m=\u001b[39m\u001b[39m\"\u001b[39m\u001b[39mIU\u001b[39m\u001b[39m\"\u001b[39m, station\u001b[39m=\u001b[39m\u001b[39m\"\u001b[39m\u001b[39mTUC\u001b[39m\u001b[39m\"\u001b[39m, location\u001b[39m=\u001b[39m\u001b[39m\"\u001b[39m\u001b[39m00\u001b[39m\u001b[39m\"\u001b[39m,channel\u001b[39m=\u001b[39m\u001b[39m\"\u001b[39m\u001b[39mHHZ\u001b[39m\u001b[39m\"\u001b[39m, level\u001b[39m=\u001b[39m\u001b[39m\"\u001b[39m\u001b[39mresponse\u001b[39m\u001b[39m\"\u001b[39m)\n\u001b[0;32m---> 21\u001b[0m client\u001b[39m.\u001b[39;49mget_waveforms()\n\u001b[1;32m     22\u001b[0m \u001b[39m# station = client.get_stations(starttime=starttime1, endtime=endtime1, net, sta, loc, chan,  level='response')\u001b[39;00m\n\u001b[1;32m     24\u001b[0m stationx\u001b[39m.\u001b[39mplot_response(min_freq\u001b[39m=\u001b[39m\u001b[39m1e-4\u001b[39m)\n",
      "\u001b[0;31mTypeError\u001b[0m: get_waveforms() missing 6 required positional arguments: 'network', 'station', 'location', 'channel', 'starttime', and 'endtime'"
     ]
    }
   ],
   "source": [
    "import numpy as np\n",
    "from obspy import UTCDateTime, Stream\n",
    "from obspy.clients.fdsn import Client\n",
    "\n",
    "client = Client('IRIS')\n",
    "# net = \"IU\"\n",
    "# sta = \"TUC\"\n",
    "# loc = \"00\"\n",
    "# chan = \"HH1\"\n",
    "time = UTCDateTime(\"2019-07-06T03:19:53\")\n",
    "starttime = time - 60\n",
    "endtime = time + 60*15\n",
    "\n",
    "network=\"IU\"\n",
    "station=\"TUC\"\n",
    "location=\"00\"\n",
    "channel=\"HHZ\"\n",
    "\n",
    "stationx = client.get_stations(starttime=starttime, endtime=endtime, network=network, station=station, location=location, channel=channel, level=\"response\")\n",
    "# stationx = client.get_stations(starttime=starttime, endtime=endtime, network=\"IU\", station=\"TUC\", location=\"00\",channel=\"HHZ\", level=\"response\")\n",
    "# client.get_waveforms()\n",
    "# station = client.get_stations(starttime=starttime1, endtime=endtime1, net, sta, loc, chan,  level='response')\n",
    "\n",
    "stationx.plot_response(min_freq=1e-4)\n",
    "\n",
    "# str = client.get_waveforms(net, sta, loc, chan, starttime, endtime)\n",
    "# station = client.get_stations(net, sta, loc, chan, starttime, endtime)\n"
   ]
  },
  {
   "cell_type": "code",
   "execution_count": null,
   "metadata": {},
   "outputs": [],
   "source": []
  },
  {
   "cell_type": "code",
   "execution_count": null,
   "metadata": {},
   "outputs": [],
   "source": [
    "stations=['AAK','BFO']\n",
    "starttime=UTCDateTime(\"2023-02-06T00:00:00\")\n",
    "endtime=UTCDateTime(\"2023-02-07T23:59:59\")\n",
    "for sta in stations:\n",
    "    print(sta)\n",
    "    inventory = client.get_stations(starttime=starttime, endtime=endtime,network=\"II\", sta=str(sta),\n",
    "                                    loc=\"*\", channel=\"BHZ\",level=\"response\")"
   ]
  }
 ],
 "metadata": {
  "kernelspec": {
   "display_name": "obspy",
   "language": "python",
   "name": "python3"
  },
  "language_info": {
   "codemirror_mode": {
    "name": "ipython",
    "version": 3
   },
   "file_extension": ".py",
   "mimetype": "text/x-python",
   "name": "python",
   "nbconvert_exporter": "python",
   "pygments_lexer": "ipython3",
   "version": "3.9.16"
  },
  "orig_nbformat": 4
 },
 "nbformat": 4,
 "nbformat_minor": 2
}
